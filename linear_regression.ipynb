{
  "nbformat": 4,
  "nbformat_minor": 0,
  "metadata": {
    "colab": {
      "name": "linear regression.ipynb",
      "provenance": [],
      "collapsed_sections": []
    },
    "kernelspec": {
      "name": "python3",
      "display_name": "Python 3"
    },
    "language_info": {
      "name": "python"
    }
  },
  "cells": [
    {
      "cell_type": "code",
      "execution_count": null,
      "metadata": {
        "id": "Vs5lPgZ9BPeD"
      },
      "outputs": [],
      "source": [
        "import pandas as pd\n",
        "import numpy as np\n",
        "from sklearn import linear_model\n",
        "import matplotlib.pyplot as plt\n",
        "import seaborn as sns"
      ]
    },
    {
      "cell_type": "code",
      "source": [
        "df=pd.read_csv(\"/content/drive/MyDrive/Classroom/bodyfat.csv\")\n",
        "x=df.iloc[:,[2,14]].values\n",
        "y=df.iloc[:,1].values"
      ],
      "metadata": {
        "id": "Q1qne62WLYg3"
      },
      "execution_count": null,
      "outputs": []
    },
    {
      "cell_type": "code",
      "source": [
        "df"
      ],
      "metadata": {
        "id": "9ZNTM80tKCSf",
        "colab": {
          "base_uri": "https://localhost:8080/",
          "height": 424
        },
        "outputId": "9fc1bfb4-acfc-475f-db1a-8d35e15a8908"
      },
      "execution_count": null,
      "outputs": [
        {
          "output_type": "execute_result",
          "data": {
            "text/plain": [
              "     Density  BodyFat  Age  Weight  Height  Neck  Chest  Abdomen    Hip  \\\n",
              "0     1.0708     12.3   23  154.25   67.75  36.2   93.1     85.2   94.5   \n",
              "1     1.0853      6.1   22  173.25   72.25  38.5   93.6     83.0   98.7   \n",
              "2     1.0414     25.3   22  154.00   66.25  34.0   95.8     87.9   99.2   \n",
              "3     1.0751     10.4   26  184.75   72.25  37.4  101.8     86.4  101.2   \n",
              "4     1.0340     28.7   24  184.25   71.25  34.4   97.3    100.0  101.9   \n",
              "..       ...      ...  ...     ...     ...   ...    ...      ...    ...   \n",
              "247   1.0736     11.0   70  134.25   67.00  34.9   89.2     83.6   88.8   \n",
              "248   1.0236     33.6   72  201.00   69.75  40.9  108.5    105.0  104.5   \n",
              "249   1.0328     29.3   72  186.75   66.00  38.9  111.1    111.5  101.7   \n",
              "250   1.0399     26.0   72  190.75   70.50  38.9  108.3    101.3   97.8   \n",
              "251   1.0271     31.9   74  207.50   70.00  40.8  112.4    108.5  107.1   \n",
              "\n",
              "     Thigh  Knee  Ankle  Biceps  Forearm  Wrist  \n",
              "0     59.0  37.3   21.9    32.0     27.4   17.1  \n",
              "1     58.7  37.3   23.4    30.5     28.9   18.2  \n",
              "2     59.6  38.9   24.0    28.8     25.2   16.6  \n",
              "3     60.1  37.3   22.8    32.4     29.4   18.2  \n",
              "4     63.2  42.2   24.0    32.2     27.7   17.7  \n",
              "..     ...   ...    ...     ...      ...    ...  \n",
              "247   49.6  34.8   21.5    25.6     25.7   18.5  \n",
              "248   59.6  40.8   23.2    35.2     28.6   20.1  \n",
              "249   60.3  37.3   21.5    31.3     27.2   18.0  \n",
              "250   56.0  41.6   22.7    30.5     29.4   19.8  \n",
              "251   59.3  42.2   24.6    33.7     30.0   20.9  \n",
              "\n",
              "[252 rows x 15 columns]"
            ],
            "text/html": [
              "\n",
              "  <div id=\"df-b12c0041-995b-407d-a522-4fb0f2e6ae97\">\n",
              "    <div class=\"colab-df-container\">\n",
              "      <div>\n",
              "<style scoped>\n",
              "    .dataframe tbody tr th:only-of-type {\n",
              "        vertical-align: middle;\n",
              "    }\n",
              "\n",
              "    .dataframe tbody tr th {\n",
              "        vertical-align: top;\n",
              "    }\n",
              "\n",
              "    .dataframe thead th {\n",
              "        text-align: right;\n",
              "    }\n",
              "</style>\n",
              "<table border=\"1\" class=\"dataframe\">\n",
              "  <thead>\n",
              "    <tr style=\"text-align: right;\">\n",
              "      <th></th>\n",
              "      <th>Density</th>\n",
              "      <th>BodyFat</th>\n",
              "      <th>Age</th>\n",
              "      <th>Weight</th>\n",
              "      <th>Height</th>\n",
              "      <th>Neck</th>\n",
              "      <th>Chest</th>\n",
              "      <th>Abdomen</th>\n",
              "      <th>Hip</th>\n",
              "      <th>Thigh</th>\n",
              "      <th>Knee</th>\n",
              "      <th>Ankle</th>\n",
              "      <th>Biceps</th>\n",
              "      <th>Forearm</th>\n",
              "      <th>Wrist</th>\n",
              "    </tr>\n",
              "  </thead>\n",
              "  <tbody>\n",
              "    <tr>\n",
              "      <th>0</th>\n",
              "      <td>1.0708</td>\n",
              "      <td>12.3</td>\n",
              "      <td>23</td>\n",
              "      <td>154.25</td>\n",
              "      <td>67.75</td>\n",
              "      <td>36.2</td>\n",
              "      <td>93.1</td>\n",
              "      <td>85.2</td>\n",
              "      <td>94.5</td>\n",
              "      <td>59.0</td>\n",
              "      <td>37.3</td>\n",
              "      <td>21.9</td>\n",
              "      <td>32.0</td>\n",
              "      <td>27.4</td>\n",
              "      <td>17.1</td>\n",
              "    </tr>\n",
              "    <tr>\n",
              "      <th>1</th>\n",
              "      <td>1.0853</td>\n",
              "      <td>6.1</td>\n",
              "      <td>22</td>\n",
              "      <td>173.25</td>\n",
              "      <td>72.25</td>\n",
              "      <td>38.5</td>\n",
              "      <td>93.6</td>\n",
              "      <td>83.0</td>\n",
              "      <td>98.7</td>\n",
              "      <td>58.7</td>\n",
              "      <td>37.3</td>\n",
              "      <td>23.4</td>\n",
              "      <td>30.5</td>\n",
              "      <td>28.9</td>\n",
              "      <td>18.2</td>\n",
              "    </tr>\n",
              "    <tr>\n",
              "      <th>2</th>\n",
              "      <td>1.0414</td>\n",
              "      <td>25.3</td>\n",
              "      <td>22</td>\n",
              "      <td>154.00</td>\n",
              "      <td>66.25</td>\n",
              "      <td>34.0</td>\n",
              "      <td>95.8</td>\n",
              "      <td>87.9</td>\n",
              "      <td>99.2</td>\n",
              "      <td>59.6</td>\n",
              "      <td>38.9</td>\n",
              "      <td>24.0</td>\n",
              "      <td>28.8</td>\n",
              "      <td>25.2</td>\n",
              "      <td>16.6</td>\n",
              "    </tr>\n",
              "    <tr>\n",
              "      <th>3</th>\n",
              "      <td>1.0751</td>\n",
              "      <td>10.4</td>\n",
              "      <td>26</td>\n",
              "      <td>184.75</td>\n",
              "      <td>72.25</td>\n",
              "      <td>37.4</td>\n",
              "      <td>101.8</td>\n",
              "      <td>86.4</td>\n",
              "      <td>101.2</td>\n",
              "      <td>60.1</td>\n",
              "      <td>37.3</td>\n",
              "      <td>22.8</td>\n",
              "      <td>32.4</td>\n",
              "      <td>29.4</td>\n",
              "      <td>18.2</td>\n",
              "    </tr>\n",
              "    <tr>\n",
              "      <th>4</th>\n",
              "      <td>1.0340</td>\n",
              "      <td>28.7</td>\n",
              "      <td>24</td>\n",
              "      <td>184.25</td>\n",
              "      <td>71.25</td>\n",
              "      <td>34.4</td>\n",
              "      <td>97.3</td>\n",
              "      <td>100.0</td>\n",
              "      <td>101.9</td>\n",
              "      <td>63.2</td>\n",
              "      <td>42.2</td>\n",
              "      <td>24.0</td>\n",
              "      <td>32.2</td>\n",
              "      <td>27.7</td>\n",
              "      <td>17.7</td>\n",
              "    </tr>\n",
              "    <tr>\n",
              "      <th>...</th>\n",
              "      <td>...</td>\n",
              "      <td>...</td>\n",
              "      <td>...</td>\n",
              "      <td>...</td>\n",
              "      <td>...</td>\n",
              "      <td>...</td>\n",
              "      <td>...</td>\n",
              "      <td>...</td>\n",
              "      <td>...</td>\n",
              "      <td>...</td>\n",
              "      <td>...</td>\n",
              "      <td>...</td>\n",
              "      <td>...</td>\n",
              "      <td>...</td>\n",
              "      <td>...</td>\n",
              "    </tr>\n",
              "    <tr>\n",
              "      <th>247</th>\n",
              "      <td>1.0736</td>\n",
              "      <td>11.0</td>\n",
              "      <td>70</td>\n",
              "      <td>134.25</td>\n",
              "      <td>67.00</td>\n",
              "      <td>34.9</td>\n",
              "      <td>89.2</td>\n",
              "      <td>83.6</td>\n",
              "      <td>88.8</td>\n",
              "      <td>49.6</td>\n",
              "      <td>34.8</td>\n",
              "      <td>21.5</td>\n",
              "      <td>25.6</td>\n",
              "      <td>25.7</td>\n",
              "      <td>18.5</td>\n",
              "    </tr>\n",
              "    <tr>\n",
              "      <th>248</th>\n",
              "      <td>1.0236</td>\n",
              "      <td>33.6</td>\n",
              "      <td>72</td>\n",
              "      <td>201.00</td>\n",
              "      <td>69.75</td>\n",
              "      <td>40.9</td>\n",
              "      <td>108.5</td>\n",
              "      <td>105.0</td>\n",
              "      <td>104.5</td>\n",
              "      <td>59.6</td>\n",
              "      <td>40.8</td>\n",
              "      <td>23.2</td>\n",
              "      <td>35.2</td>\n",
              "      <td>28.6</td>\n",
              "      <td>20.1</td>\n",
              "    </tr>\n",
              "    <tr>\n",
              "      <th>249</th>\n",
              "      <td>1.0328</td>\n",
              "      <td>29.3</td>\n",
              "      <td>72</td>\n",
              "      <td>186.75</td>\n",
              "      <td>66.00</td>\n",
              "      <td>38.9</td>\n",
              "      <td>111.1</td>\n",
              "      <td>111.5</td>\n",
              "      <td>101.7</td>\n",
              "      <td>60.3</td>\n",
              "      <td>37.3</td>\n",
              "      <td>21.5</td>\n",
              "      <td>31.3</td>\n",
              "      <td>27.2</td>\n",
              "      <td>18.0</td>\n",
              "    </tr>\n",
              "    <tr>\n",
              "      <th>250</th>\n",
              "      <td>1.0399</td>\n",
              "      <td>26.0</td>\n",
              "      <td>72</td>\n",
              "      <td>190.75</td>\n",
              "      <td>70.50</td>\n",
              "      <td>38.9</td>\n",
              "      <td>108.3</td>\n",
              "      <td>101.3</td>\n",
              "      <td>97.8</td>\n",
              "      <td>56.0</td>\n",
              "      <td>41.6</td>\n",
              "      <td>22.7</td>\n",
              "      <td>30.5</td>\n",
              "      <td>29.4</td>\n",
              "      <td>19.8</td>\n",
              "    </tr>\n",
              "    <tr>\n",
              "      <th>251</th>\n",
              "      <td>1.0271</td>\n",
              "      <td>31.9</td>\n",
              "      <td>74</td>\n",
              "      <td>207.50</td>\n",
              "      <td>70.00</td>\n",
              "      <td>40.8</td>\n",
              "      <td>112.4</td>\n",
              "      <td>108.5</td>\n",
              "      <td>107.1</td>\n",
              "      <td>59.3</td>\n",
              "      <td>42.2</td>\n",
              "      <td>24.6</td>\n",
              "      <td>33.7</td>\n",
              "      <td>30.0</td>\n",
              "      <td>20.9</td>\n",
              "    </tr>\n",
              "  </tbody>\n",
              "</table>\n",
              "<p>252 rows × 15 columns</p>\n",
              "</div>\n",
              "      <button class=\"colab-df-convert\" onclick=\"convertToInteractive('df-b12c0041-995b-407d-a522-4fb0f2e6ae97')\"\n",
              "              title=\"Convert this dataframe to an interactive table.\"\n",
              "              style=\"display:none;\">\n",
              "        \n",
              "  <svg xmlns=\"http://www.w3.org/2000/svg\" height=\"24px\"viewBox=\"0 0 24 24\"\n",
              "       width=\"24px\">\n",
              "    <path d=\"M0 0h24v24H0V0z\" fill=\"none\"/>\n",
              "    <path d=\"M18.56 5.44l.94 2.06.94-2.06 2.06-.94-2.06-.94-.94-2.06-.94 2.06-2.06.94zm-11 1L8.5 8.5l.94-2.06 2.06-.94-2.06-.94L8.5 2.5l-.94 2.06-2.06.94zm10 10l.94 2.06.94-2.06 2.06-.94-2.06-.94-.94-2.06-.94 2.06-2.06.94z\"/><path d=\"M17.41 7.96l-1.37-1.37c-.4-.4-.92-.59-1.43-.59-.52 0-1.04.2-1.43.59L10.3 9.45l-7.72 7.72c-.78.78-.78 2.05 0 2.83L4 21.41c.39.39.9.59 1.41.59.51 0 1.02-.2 1.41-.59l7.78-7.78 2.81-2.81c.8-.78.8-2.07 0-2.86zM5.41 20L4 18.59l7.72-7.72 1.47 1.35L5.41 20z\"/>\n",
              "  </svg>\n",
              "      </button>\n",
              "      \n",
              "  <style>\n",
              "    .colab-df-container {\n",
              "      display:flex;\n",
              "      flex-wrap:wrap;\n",
              "      gap: 12px;\n",
              "    }\n",
              "\n",
              "    .colab-df-convert {\n",
              "      background-color: #E8F0FE;\n",
              "      border: none;\n",
              "      border-radius: 50%;\n",
              "      cursor: pointer;\n",
              "      display: none;\n",
              "      fill: #1967D2;\n",
              "      height: 32px;\n",
              "      padding: 0 0 0 0;\n",
              "      width: 32px;\n",
              "    }\n",
              "\n",
              "    .colab-df-convert:hover {\n",
              "      background-color: #E2EBFA;\n",
              "      box-shadow: 0px 1px 2px rgba(60, 64, 67, 0.3), 0px 1px 3px 1px rgba(60, 64, 67, 0.15);\n",
              "      fill: #174EA6;\n",
              "    }\n",
              "\n",
              "    [theme=dark] .colab-df-convert {\n",
              "      background-color: #3B4455;\n",
              "      fill: #D2E3FC;\n",
              "    }\n",
              "\n",
              "    [theme=dark] .colab-df-convert:hover {\n",
              "      background-color: #434B5C;\n",
              "      box-shadow: 0px 1px 3px 1px rgba(0, 0, 0, 0.15);\n",
              "      filter: drop-shadow(0px 1px 2px rgba(0, 0, 0, 0.3));\n",
              "      fill: #FFFFFF;\n",
              "    }\n",
              "  </style>\n",
              "\n",
              "      <script>\n",
              "        const buttonEl =\n",
              "          document.querySelector('#df-b12c0041-995b-407d-a522-4fb0f2e6ae97 button.colab-df-convert');\n",
              "        buttonEl.style.display =\n",
              "          google.colab.kernel.accessAllowed ? 'block' : 'none';\n",
              "\n",
              "        async function convertToInteractive(key) {\n",
              "          const element = document.querySelector('#df-b12c0041-995b-407d-a522-4fb0f2e6ae97');\n",
              "          const dataTable =\n",
              "            await google.colab.kernel.invokeFunction('convertToInteractive',\n",
              "                                                     [key], {});\n",
              "          if (!dataTable) return;\n",
              "\n",
              "          const docLinkHtml = 'Like what you see? Visit the ' +\n",
              "            '<a target=\"_blank\" href=https://colab.research.google.com/notebooks/data_table.ipynb>data table notebook</a>'\n",
              "            + ' to learn more about interactive tables.';\n",
              "          element.innerHTML = '';\n",
              "          dataTable['output_type'] = 'display_data';\n",
              "          await google.colab.output.renderOutput(dataTable, element);\n",
              "          const docLink = document.createElement('div');\n",
              "          docLink.innerHTML = docLinkHtml;\n",
              "          element.appendChild(docLink);\n",
              "        }\n",
              "      </script>\n",
              "    </div>\n",
              "  </div>\n",
              "  "
            ]
          },
          "metadata": {},
          "execution_count": 11
        }
      ]
    },
    {
      "cell_type": "code",
      "source": [
        "x"
      ],
      "metadata": {
        "colab": {
          "base_uri": "https://localhost:8080/"
        },
        "id": "fanmmSicMB67",
        "outputId": "c0e35fc0-32e3-4949-baae-9d9222123dbc"
      },
      "execution_count": null,
      "outputs": [
        {
          "output_type": "execute_result",
          "data": {
            "text/plain": [
              "array([[23. , 17.1],\n",
              "       [22. , 18.2],\n",
              "       [22. , 16.6],\n",
              "       [26. , 18.2],\n",
              "       [24. , 17.7],\n",
              "       [24. , 18.8],\n",
              "       [26. , 17.7],\n",
              "       [25. , 18.8],\n",
              "       [25. , 18.2],\n",
              "       [23. , 19.2],\n",
              "       [26. , 18.5],\n",
              "       [27. , 19. ],\n",
              "       [32. , 17.7],\n",
              "       [30. , 18.8],\n",
              "       [35. , 18.2],\n",
              "       [35. , 16.9],\n",
              "       [34. , 17.3],\n",
              "       [32. , 19.3],\n",
              "       [28. , 18.5],\n",
              "       [33. , 18.2],\n",
              "       [28. , 18.4],\n",
              "       [28. , 19.9],\n",
              "       [31. , 16.7],\n",
              "       [32. , 17.1],\n",
              "       [28. , 17.6],\n",
              "       [27. , 17.7],\n",
              "       [34. , 16.5],\n",
              "       [31. , 17. ],\n",
              "       [27. , 17.2],\n",
              "       [29. , 17.6],\n",
              "       [32. , 18.4],\n",
              "       [29. , 17.9],\n",
              "       [27. , 18.8],\n",
              "       [41. , 18.7],\n",
              "       [41. , 19.7],\n",
              "       [49. , 17. ],\n",
              "       [40. , 19. ],\n",
              "       [50. , 19.4],\n",
              "       [46. , 21.4],\n",
              "       [50. , 18.3],\n",
              "       [45. , 21.4],\n",
              "       [44. , 17.4],\n",
              "       [48. , 18.4],\n",
              "       [41. , 18.8],\n",
              "       [39. , 16.1],\n",
              "       [43. , 18.3],\n",
              "       [40. , 17.3],\n",
              "       [39. , 17.9],\n",
              "       [45. , 16.3],\n",
              "       [47. , 16.8],\n",
              "       [47. , 17.3],\n",
              "       [40. , 17.2],\n",
              "       [51. , 16.9],\n",
              "       [49. , 18.5],\n",
              "       [42. , 18.5],\n",
              "       [54. , 18.9],\n",
              "       [58. , 18.5],\n",
              "       [62. , 19.2],\n",
              "       [54. , 18.2],\n",
              "       [61. , 18.5],\n",
              "       [62. , 20.2],\n",
              "       [56. , 18.3],\n",
              "       [54. , 19.1],\n",
              "       [61. , 18.8],\n",
              "       [57. , 18.4],\n",
              "       [55. , 18.7],\n",
              "       [54. , 17.4],\n",
              "       [55. , 18.7],\n",
              "       [54. , 18.1],\n",
              "       [55. , 17.3],\n",
              "       [62. , 18.6],\n",
              "       [55. , 18.3],\n",
              "       [56. , 18.2],\n",
              "       [55. , 16.9],\n",
              "       [61. , 16.8],\n",
              "       [61. , 18.3],\n",
              "       [57. , 18.1],\n",
              "       [69. , 18.8],\n",
              "       [81. , 18.3],\n",
              "       [66. , 19. ],\n",
              "       [67. , 19. ],\n",
              "       [64. , 17.7],\n",
              "       [64. , 19. ],\n",
              "       [70. , 19.2],\n",
              "       [72. , 18. ],\n",
              "       [67. , 18.2],\n",
              "       [72. , 18.8],\n",
              "       [64. , 18.1],\n",
              "       [46. , 18.8],\n",
              "       [48. , 18.7],\n",
              "       [46. , 17.7],\n",
              "       [44. , 18.8],\n",
              "       [47. , 18.4],\n",
              "       [46. , 19.1],\n",
              "       [47. , 17.8],\n",
              "       [53. , 20.4],\n",
              "       [38. , 18.5],\n",
              "       [50. , 18.2],\n",
              "       [46. , 18.2],\n",
              "       [47. , 18.3],\n",
              "       [49. , 18.6],\n",
              "       [48. , 17. ],\n",
              "       [41. , 18.4],\n",
              "       [49. , 19.7],\n",
              "       [43. , 17.7],\n",
              "       [43. , 18.8],\n",
              "       [43. , 18.1],\n",
              "       [52. , 19.1],\n",
              "       [43. , 19.2],\n",
              "       [40. , 17.3],\n",
              "       [43. , 18.1],\n",
              "       [43. , 17.4],\n",
              "       [47. , 19.8],\n",
              "       [42. , 17.4],\n",
              "       [48. , 17.5],\n",
              "       [40. , 17.3],\n",
              "       [48. , 18.1],\n",
              "       [51. , 19.5],\n",
              "       [40. , 18.5],\n",
              "       [44. , 18. ],\n",
              "       [52. , 19.5],\n",
              "       [44. , 18.4],\n",
              "       [40. , 17.6],\n",
              "       [47. , 17.6],\n",
              "       [50. , 18. ],\n",
              "       [46. , 17.6],\n",
              "       [42. , 17.2],\n",
              "       [43. , 17.4],\n",
              "       [40. , 18.1],\n",
              "       [42. , 17.7],\n",
              "       [49. , 17.6],\n",
              "       [40. , 17.1],\n",
              "       [47. , 17.9],\n",
              "       [50. , 17.3],\n",
              "       [41. , 18.1],\n",
              "       [44. , 17.6],\n",
              "       [39. , 17.1],\n",
              "       [43. , 17.7],\n",
              "       [40. , 17.6],\n",
              "       [49. , 18.7],\n",
              "       [40. , 16.6],\n",
              "       [40. , 17.8],\n",
              "       [52. , 17.9],\n",
              "       [23. , 18.2],\n",
              "       [23. , 18.3],\n",
              "       [24. , 17.3],\n",
              "       [24. , 18.7],\n",
              "       [25. , 18.4],\n",
              "       [25. , 16.9],\n",
              "       [26. , 18.4],\n",
              "       [26. , 17.8],\n",
              "       [26. , 19.6],\n",
              "       [27. , 17.4],\n",
              "       [27. , 17.9],\n",
              "       [27. , 19.4],\n",
              "       [28. , 17.7],\n",
              "       [28. , 19.1],\n",
              "       [28. , 18.6],\n",
              "       [30. , 16.9],\n",
              "       [31. , 18.2],\n",
              "       [31. , 16.5],\n",
              "       [33. , 19.1],\n",
              "       [33. , 19.7],\n",
              "       [34. , 16.5],\n",
              "       [34. , 18.5],\n",
              "       [35. , 19.4],\n",
              "       [35. , 17.7],\n",
              "       [35. , 19.8],\n",
              "       [35. , 18.8],\n",
              "       [35. , 17.4],\n",
              "       [35. , 17.7],\n",
              "       [35. , 16.9],\n",
              "       [35. , 17.7],\n",
              "       [36. , 17.8],\n",
              "       [36. , 20.1],\n",
              "       [37. , 16.9],\n",
              "       [37. , 16.7],\n",
              "       [37. , 18.4],\n",
              "       [38. , 18.1],\n",
              "       [39. , 19.9],\n",
              "       [39. , 19. ],\n",
              "       [40. , 16.5],\n",
              "       [40. , 17.2],\n",
              "       [40. , 17.4],\n",
              "       [40. , 17.7],\n",
              "       [40. , 18.2],\n",
              "       [41. , 20. ],\n",
              "       [41. , 19.1],\n",
              "       [41. , 18.8],\n",
              "       [41. , 18.5],\n",
              "       [41. , 17.9],\n",
              "       [42. , 19.9],\n",
              "       [42. , 18.7],\n",
              "       [42. , 18.5],\n",
              "       [42. , 17.1],\n",
              "       [42. , 18.8],\n",
              "       [42. , 17.4],\n",
              "       [42. , 16.9],\n",
              "       [42. , 18.5],\n",
              "       [43. , 18.8],\n",
              "       [43. , 18.6],\n",
              "       [43. , 17.4],\n",
              "       [43. , 18.7],\n",
              "       [44. , 18.4],\n",
              "       [44. , 17.4],\n",
              "       [44. , 19.4],\n",
              "       [44. , 17.3],\n",
              "       [47. , 18.4],\n",
              "       [47. , 17.7],\n",
              "       [47. , 17.6],\n",
              "       [49. , 17.4],\n",
              "       [49. , 18.9],\n",
              "       [49. , 18.6],\n",
              "       [50. , 19. ],\n",
              "       [50. , 18. ],\n",
              "       [51. , 18.4],\n",
              "       [51. , 17.8],\n",
              "       [51. , 18.6],\n",
              "       [52. , 19.2],\n",
              "       [53. , 17.1],\n",
              "       [54. , 18.9],\n",
              "       [54. , 19.6],\n",
              "       [54. , 17.8],\n",
              "       [55. , 17. ],\n",
              "       [55. , 19.2],\n",
              "       [55. , 15.8],\n",
              "       [55. , 18.8],\n",
              "       [55. , 18.4],\n",
              "       [56. , 18.8],\n",
              "       [56. , 19. ],\n",
              "       [57. , 16.9],\n",
              "       [57. , 19. ],\n",
              "       [58. , 18. ],\n",
              "       [58. , 17.6],\n",
              "       [60. , 18.3],\n",
              "       [62. , 18.3],\n",
              "       [62. , 19. ],\n",
              "       [63. , 18.5],\n",
              "       [64. , 18.3],\n",
              "       [65. , 19.1],\n",
              "       [65. , 16.5],\n",
              "       [65. , 19.4],\n",
              "       [66. , 19.5],\n",
              "       [67. , 19.5],\n",
              "       [67. , 18.5],\n",
              "       [68. , 18.5],\n",
              "       [69. , 18.8],\n",
              "       [70. , 18.5],\n",
              "       [72. , 20.1],\n",
              "       [72. , 18. ],\n",
              "       [72. , 19.8],\n",
              "       [74. , 20.9]])"
            ]
          },
          "metadata": {},
          "execution_count": 12
        }
      ]
    },
    {
      "cell_type": "code",
      "source": [
        "y"
      ],
      "metadata": {
        "colab": {
          "base_uri": "https://localhost:8080/"
        },
        "id": "VWcx4kihME6z",
        "outputId": "ad725b9a-8347-45b3-d3fd-dbaaed8d7f5e"
      },
      "execution_count": null,
      "outputs": [
        {
          "output_type": "execute_result",
          "data": {
            "text/plain": [
              "array([12.3,  6.1, 25.3, 10.4, 28.7, 20.9, 19.2, 12.4,  4.1, 11.7,  7.1,\n",
              "        7.8, 20.8, 21.2, 22.1, 20.9, 29. , 22.9, 16. , 16.5, 19.1, 15.2,\n",
              "       15.6, 17.7, 14. ,  3.7,  7.9, 22.9,  3.7,  8.8, 11.9,  5.7, 11.8,\n",
              "       21.3, 32.3, 40.1, 24.2, 28.4, 35.2, 32.6, 34.5, 32.9, 31.6, 32. ,\n",
              "        7.7, 13.9, 10.8,  5.6, 13.6,  4. , 10.2,  6.6,  8. ,  6.3,  3.9,\n",
              "       22.6, 20.4, 28. , 31.5, 24.6, 26.1, 29.8, 30.7, 25.8, 32.3, 30. ,\n",
              "       21.5, 13.8,  6.3, 12.9, 24.3,  8.8,  8.5, 13.5, 11.8, 18.5,  8.8,\n",
              "       22.2, 21.5, 18.8, 31.4, 26.8, 18.4, 27. , 27. , 26.6, 14.9, 23.1,\n",
              "        8.3, 14.1, 20.5, 18.2,  8.5, 24.9,  9. , 17.4,  9.6, 11.3, 17.8,\n",
              "       22.2, 21.2, 20.4, 20.1, 22.3, 25.4, 18. , 19.3, 18.3, 17.3, 21.4,\n",
              "       19.7, 28. , 22.1, 21.3, 26.7, 16.7, 20.1, 13.9, 25.8, 18.1, 27.9,\n",
              "       25.3, 14.7, 16. , 13.8, 17.5, 27.2, 17.4, 20.8, 14.9, 18.1, 22.7,\n",
              "       23.6, 26.1, 24.4, 27.1, 21.8, 29.4, 22.4, 20.4, 24.9, 18.3, 23.3,\n",
              "        9.4, 10.3, 14.2, 19.2, 29.6,  5.3, 25.2,  9.4, 19.6, 10.1, 16.5,\n",
              "       21. , 17.3, 31.2, 10. , 12.5, 22.5,  9.4, 14.6, 13. , 15.1, 27.3,\n",
              "       19.2, 21.8, 20.3, 34.3, 16.5,  3. ,  0.7, 20.5, 16.9, 25.3,  9.9,\n",
              "       13.1, 29.9, 22.5, 16.9, 26.6,  0. , 11.5, 12.1, 17.5,  8.6, 23.6,\n",
              "       20.4, 20.5, 24.4, 11.4, 38.1, 15.9, 24.7, 22.8, 25.5, 22. , 17.7,\n",
              "        6.6, 23.6, 12.2, 22.1, 28.7,  6. , 34.8, 16.6, 32.9, 32.8,  9.6,\n",
              "       10.8,  7.1, 27.2, 19.5, 18.7, 19.5, 47.5, 13.6,  7.5, 24.5, 15. ,\n",
              "       12.4, 26. , 11.5,  5.2, 10.9, 12.5, 14.8, 25.2, 14.9, 17. , 10.6,\n",
              "       16.1, 15.4, 26.7, 25.8, 18.6, 24.8, 27.3, 12.4, 29.9, 17. , 35. ,\n",
              "       30.4, 32.6, 29. , 15.2, 30.2, 11. , 33.6, 29.3, 26. , 31.9])"
            ]
          },
          "metadata": {},
          "execution_count": 13
        }
      ]
    },
    {
      "cell_type": "code",
      "source": [
        "sns.distplot(df[\"BodyFat\"],kde=False,bins=10)"
      ],
      "metadata": {
        "colab": {
          "base_uri": "https://localhost:8080/",
          "height": 351
        },
        "id": "8yudfwETMFTd",
        "outputId": "d60b542c-dd8e-4f86-b1c0-90b7b8dcec0f"
      },
      "execution_count": null,
      "outputs": [
        {
          "output_type": "stream",
          "name": "stderr",
          "text": [
            "/usr/local/lib/python3.7/dist-packages/seaborn/distributions.py:2619: FutureWarning: `distplot` is a deprecated function and will be removed in a future version. Please adapt your code to use either `displot` (a figure-level function with similar flexibility) or `histplot` (an axes-level function for histograms).\n",
            "  warnings.warn(msg, FutureWarning)\n"
          ]
        },
        {
          "output_type": "execute_result",
          "data": {
            "text/plain": [
              "<matplotlib.axes._subplots.AxesSubplot at 0x7f24b88cafd0>"
            ]
          },
          "metadata": {},
          "execution_count": 15
        },
        {
          "output_type": "display_data",
          "data": {
            "text/plain": [
              "<Figure size 432x288 with 1 Axes>"
            ],
            "image/png": "[encoded data removed]"
          },
          "metadata": {
            "needs_background": "light"
          }
        }
      ]
    },
    {
      "cell_type": "code",
      "source": [
        "sns.countplot(y=\"BodyFat\",data=df)"
      ],
      "metadata": {
        "colab": {
          "base_uri": "https://localhost:8080/",
          "height": 300
        },
        "id": "NPDY-pQ8MYSN",
        "outputId": "089553d0-35ba-43df-ac69-3726c4bdfd82"
      },
      "execution_count": null,
      "outputs": [
        {
          "output_type": "execute_result",
          "data": {
            "text/plain": [
              "<matplotlib.axes._subplots.AxesSubplot at 0x7f24b76bc090>"
            ]
          },
          "metadata": {},
          "execution_count": 17
        },
        {
          "output_type": "display_data",
          "data": {
            "text/plain": [
              "<Figure size 432x288 with 1 Axes>"
            ],
            "image/png": "[encoded data removed]"
          },
          "metadata": {
            "needs_background": "light"
          }
        }
      ]
    },
    {
      "cell_type": "code",
      "source": [
        "sns.heatmap(df.corr())"
      ],
      "metadata": {
        "colab": {
          "base_uri": "https://localhost:8080/",
          "height": 324
        },
        "id": "WFk7ywujNKfP",
        "outputId": "76cac908-03a1-43fc-9d6f-41e710e2895a"
      },
      "execution_count": null,
      "outputs": [
        {
          "output_type": "execute_result",
          "data": {
            "text/plain": [
              "<matplotlib.axes._subplots.AxesSubplot at 0x7f24b73629d0>"
            ]
          },
          "metadata": {},
          "execution_count": 19
        },
        {
          "output_type": "display_data",
          "data": {
            "text/plain": [
              "<Figure size 432x288 with 2 Axes>"
            ],
            "image/png": "[encoded data removed]"
          },
          "metadata": {
            "needs_background": "light"
          }
        }
      ]
    },
    {
      "cell_type": "code",
      "source": [
        "from sklearn.model_selection import train_test_split\n",
        "x_train,x_test,y_train,y_test=train_test_split(x,y,test_size=1/3,random_state=0)"
      ],
      "metadata": {
        "id": "mDPUwhzLNUb7"
      },
      "execution_count": null,
      "outputs": []
    },
    {
      "cell_type": "code",
      "source": [
        "from sklearn.linear_model import LinearRegression\n",
        "lr=LinearRegression()\n",
        "lr.fit(x_train,y_train)"
      ],
      "metadata": {
        "colab": {
          "base_uri": "https://localhost:8080/"
        },
        "id": "UxE5tLRLNbZ0",
        "outputId": "3f87e73a-6b11-4857-e159-f68e67ffbc89"
      },
      "execution_count": null,
      "outputs": [
        {
          "output_type": "execute_result",
          "data": {
            "text/plain": [
              "LinearRegression()"
            ]
          },
          "metadata": {},
          "execution_count": 21
        }
      ]
    },
    {
      "cell_type": "code",
      "source": [
        "y_pred=lr.predict(x_test)\n",
        "y_pred"
      ],
      "metadata": {
        "colab": {
          "base_uri": "https://localhost:8080/"
        },
        "id": "nKJei521NeKg",
        "outputId": "9bf79135-de17-48f7-faf3-4171b25e58f1"
      },
      "execution_count": null,
      "outputs": [
        {
          "output_type": "execute_result",
          "data": {
            "text/plain": [
              "array([13.22294812, 26.29018965, 16.16885024, 16.70870022, 14.81011964,\n",
              "       20.4213191 , 19.11475236, 21.55003468, 23.65097423, 17.52758085,\n",
              "       16.34670141, 21.06392268, 16.04158882, 20.06246853, 15.24564188,\n",
              "       17.70858025, 22.13732616, 14.12007455, 17.2177459 , 20.14071433,\n",
              "       20.83075942, 19.14083429, 25.13696626, 16.80987971, 18.62864037,\n",
              "       31.36153914, 15.6550822 , 22.6510942 , 16.65653635, 23.21387787,\n",
              "       25.08637652, 16.14434243, 16.83596164, 15.78549186, 18.98591682,\n",
              "       13.17078426, 23.13563207, 17.01223868, 12.89017948, 17.75759588,\n",
              "       17.88643142, 15.63057439, 17.01538692, 17.73151394, 18.14252838,\n",
              "       17.42482724, 22.90876528, 12.78899999, 21.90888525, 13.99281313,\n",
              "       21.29393771, 20.93193891, 16.73163391, 21.14059436, 22.88268335,\n",
              "       13.96673119, 23.26604173, 16.96164894, 24.44377293, 14.12007455,\n",
              "       13.96515707, 18.529035  , 17.19166397, 21.06234857, 17.8619236 ,\n",
              "       24.13866035, 19.80637157, 21.44570695, 18.49823071, 22.57442252,\n",
              "       26.34077939, 20.98567689, 20.1146324 , 14.96503711, 18.75590179,\n",
              "       22.37048943, 22.80443755, 21.34452746, 14.1951721 , 19.5257668 ,\n",
              "       21.473363  , 19.6285204 , 16.99087911, 18.80963977])"
            ]
          },
          "metadata": {},
          "execution_count": 22
        }
      ]
    },
    {
      "cell_type": "code",
      "source": [
        "from sklearn import metrics\n",
        "print('MAE:',metrics.mean_absolute_error(y_test,y_pred))\n",
        "print('MSE:',metrics.mean_squared_error(y_test,y_pred))\n",
        "print('RMSE:',np.sqrt(metrics.mean_absolute_error(y_test,y_pred)))"
      ],
      "metadata": {
        "colab": {
          "base_uri": "https://localhost:8080/"
        },
        "id": "hwENQAepNitO",
        "outputId": "28fc1786-4bcd-4d5f-9cd1-5096a727a420"
      },
      "execution_count": null,
      "outputs": [
        {
          "output_type": "stream",
          "name": "stdout",
          "text": [
            "MAE: 6.003423991432937\n",
            "MSE: 54.55466519337018\n",
            "RMSE: 2.450188562423908\n"
          ]
        }
      ]
    },
    {
      "cell_type": "code",
      "source": [
        ""
      ],
      "metadata": {
        "id": "FpBwS1nwOCQn"
      },
      "execution_count": null,
      "outputs": []
    }
  ]
}