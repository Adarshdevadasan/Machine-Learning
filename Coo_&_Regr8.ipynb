{
  "nbformat": 4,
  "nbformat_minor": 0,
  "metadata": {
    "colab": {
      "name": "Coo & Regr8.ipynb",
      "provenance": [],
      "collapsed_sections": []
    },
    "kernelspec": {
      "name": "python3",
      "display_name": "Python 3"
    },
    "language_info": {
      "name": "python"
    }
  },
  "cells": [
    {
      "cell_type": "code",
      "execution_count": null,
      "metadata": {
        "id": "t22EUzWMsnzs"
      },
      "outputs": [],
      "source": [
        "import pandas as pd\n",
        "import numpy as np\n",
        "import matplotlib.pyplot as plt\n",
        "import seaborn as sns"
      ]
    },
    {
      "cell_type": "code",
      "source": [
        "data=pd.read_csv(\"/content/drive/MyDrive/GDToT/Art Garfunkel Library001.csv\")\n",
        "data"
      ],
      "metadata": {
        "id": "WiNeH-3ns4j-",
        "outputId": "f14d1c4c-de61-42f3-9f76-12d4b8f0b4f2",
        "colab": {
          "base_uri": "https://localhost:8080/",
          "height": 424
        }
      },
      "execution_count": null,
      "outputs": [
        {
          "output_type": "execute_result",
          "data": {
            "text/plain": [
              "     Date Read                 Author                                  Books  \\\n",
              "0       Jun-68  Jean-Jacques Rousseau                        The Confessions   \n",
              "1       Jun-68            Erich Fromm                      The Art of Loving   \n",
              "2       Jun-68             Mark Twain     The Adventures of Huckleberry Finn   \n",
              "3       Jul-68          James Thurber                 My Life and Hard Times   \n",
              "4       Jul-68    William Shakespeare                       Romeo and Juliet   \n",
              "...        ...                    ...                                    ...   \n",
              "1315    Dec-21            Amor Towles                 A Gentleman in Moscow    \n",
              "1316    Dec-21             Mel Brooks                         All About Me!    \n",
              "1317    Jan-22         James Michener                              Caravans    \n",
              "1318    Jan-22        Abraham Lincoln  The Spiritual Growth of a Public Man    \n",
              "1319    Feb-22        Joe Scarborough                        Saving Freedom    \n",
              "\n",
              "      Year Published  Pages  Favorite  \n",
              "0               1781    606         1  \n",
              "1               1956    146         1  \n",
              "2               1884    288         0  \n",
              "3               1933    115         0  \n",
              "4               1596    146         0  \n",
              "...              ...    ...       ...  \n",
              "1315            2016    462         0  \n",
              "1316            2021    480         0  \n",
              "1317            1963    320         0  \n",
              "1318            1973     47         0  \n",
              "1319            2020    272         0  \n",
              "\n",
              "[1320 rows x 6 columns]"
            ],
            "text/html": [
              "\n",
              "  <div id=\"df-c039b27d-9206-4216-a656-8962807ded53\">\n",
              "    <div class=\"colab-df-container\">\n",
              "      <div>\n",
              "<style scoped>\n",
              "    .dataframe tbody tr th:only-of-type {\n",
              "        vertical-align: middle;\n",
              "    }\n",
              "\n",
              "    .dataframe tbody tr th {\n",
              "        vertical-align: top;\n",
              "    }\n",
              "\n",
              "    .dataframe thead th {\n",
              "        text-align: right;\n",
              "    }\n",
              "</style>\n",
              "<table border=\"1\" class=\"dataframe\">\n",
              "  <thead>\n",
              "    <tr style=\"text-align: right;\">\n",
              "      <th></th>\n",
              "      <th>Date Read</th>\n",
              "      <th>Author</th>\n",
              "      <th>Books</th>\n",
              "      <th>Year Published</th>\n",
              "      <th>Pages</th>\n",
              "      <th>Favorite</th>\n",
              "    </tr>\n",
              "  </thead>\n",
              "  <tbody>\n",
              "    <tr>\n",
              "      <th>0</th>\n",
              "      <td>Jun-68</td>\n",
              "      <td>Jean-Jacques Rousseau</td>\n",
              "      <td>The Confessions</td>\n",
              "      <td>1781</td>\n",
              "      <td>606</td>\n",
              "      <td>1</td>\n",
              "    </tr>\n",
              "    <tr>\n",
              "      <th>1</th>\n",
              "      <td>Jun-68</td>\n",
              "      <td>Erich Fromm</td>\n",
              "      <td>The Art of Loving</td>\n",
              "      <td>1956</td>\n",
              "      <td>146</td>\n",
              "      <td>1</td>\n",
              "    </tr>\n",
              "    <tr>\n",
              "      <th>2</th>\n",
              "      <td>Jun-68</td>\n",
              "      <td>Mark Twain</td>\n",
              "      <td>The Adventures of Huckleberry Finn</td>\n",
              "      <td>1884</td>\n",
              "      <td>288</td>\n",
              "      <td>0</td>\n",
              "    </tr>\n",
              "    <tr>\n",
              "      <th>3</th>\n",
              "      <td>Jul-68</td>\n",
              "      <td>James Thurber</td>\n",
              "      <td>My Life and Hard Times</td>\n",
              "      <td>1933</td>\n",
              "      <td>115</td>\n",
              "      <td>0</td>\n",
              "    </tr>\n",
              "    <tr>\n",
              "      <th>4</th>\n",
              "      <td>Jul-68</td>\n",
              "      <td>William Shakespeare</td>\n",
              "      <td>Romeo and Juliet</td>\n",
              "      <td>1596</td>\n",
              "      <td>146</td>\n",
              "      <td>0</td>\n",
              "    </tr>\n",
              "    <tr>\n",
              "      <th>...</th>\n",
              "      <td>...</td>\n",
              "      <td>...</td>\n",
              "      <td>...</td>\n",
              "      <td>...</td>\n",
              "      <td>...</td>\n",
              "      <td>...</td>\n",
              "    </tr>\n",
              "    <tr>\n",
              "      <th>1315</th>\n",
              "      <td>Dec-21</td>\n",
              "      <td>Amor Towles</td>\n",
              "      <td>A Gentleman in Moscow</td>\n",
              "      <td>2016</td>\n",
              "      <td>462</td>\n",
              "      <td>0</td>\n",
              "    </tr>\n",
              "    <tr>\n",
              "      <th>1316</th>\n",
              "      <td>Dec-21</td>\n",
              "      <td>Mel Brooks</td>\n",
              "      <td>All About Me!</td>\n",
              "      <td>2021</td>\n",
              "      <td>480</td>\n",
              "      <td>0</td>\n",
              "    </tr>\n",
              "    <tr>\n",
              "      <th>1317</th>\n",
              "      <td>Jan-22</td>\n",
              "      <td>James Michener</td>\n",
              "      <td>Caravans</td>\n",
              "      <td>1963</td>\n",
              "      <td>320</td>\n",
              "      <td>0</td>\n",
              "    </tr>\n",
              "    <tr>\n",
              "      <th>1318</th>\n",
              "      <td>Jan-22</td>\n",
              "      <td>Abraham Lincoln</td>\n",
              "      <td>The Spiritual Growth of a Public Man</td>\n",
              "      <td>1973</td>\n",
              "      <td>47</td>\n",
              "      <td>0</td>\n",
              "    </tr>\n",
              "    <tr>\n",
              "      <th>1319</th>\n",
              "      <td>Feb-22</td>\n",
              "      <td>Joe Scarborough</td>\n",
              "      <td>Saving Freedom</td>\n",
              "      <td>2020</td>\n",
              "      <td>272</td>\n",
              "      <td>0</td>\n",
              "    </tr>\n",
              "  </tbody>\n",
              "</table>\n",
              "<p>1320 rows × 6 columns</p>\n",
              "</div>\n",
              "      <button class=\"colab-df-convert\" onclick=\"convertToInteractive('df-c039b27d-9206-4216-a656-8962807ded53')\"\n",
              "              title=\"Convert this dataframe to an interactive table.\"\n",
              "              style=\"display:none;\">\n",
              "        \n",
              "  <svg xmlns=\"http://www.w3.org/2000/svg\" height=\"24px\"viewBox=\"0 0 24 24\"\n",
              "       width=\"24px\">\n",
              "    <path d=\"M0 0h24v24H0V0z\" fill=\"none\"/>\n",
              "    <path d=\"M18.56 5.44l.94 2.06.94-2.06 2.06-.94-2.06-.94-.94-2.06-.94 2.06-2.06.94zm-11 1L8.5 8.5l.94-2.06 2.06-.94-2.06-.94L8.5 2.5l-.94 2.06-2.06.94zm10 10l.94 2.06.94-2.06 2.06-.94-2.06-.94-.94-2.06-.94 2.06-2.06.94z\"/><path d=\"M17.41 7.96l-1.37-1.37c-.4-.4-.92-.59-1.43-.59-.52 0-1.04.2-1.43.59L10.3 9.45l-7.72 7.72c-.78.78-.78 2.05 0 2.83L4 21.41c.39.39.9.59 1.41.59.51 0 1.02-.2 1.41-.59l7.78-7.78 2.81-2.81c.8-.78.8-2.07 0-2.86zM5.41 20L4 18.59l7.72-7.72 1.47 1.35L5.41 20z\"/>\n",
              "  </svg>\n",
              "      </button>\n",
              "      \n",
              "  <style>\n",
              "    .colab-df-container {\n",
              "      display:flex;\n",
              "      flex-wrap:wrap;\n",
              "      gap: 12px;\n",
              "    }\n",
              "\n",
              "    .colab-df-convert {\n",
              "      background-color: #E8F0FE;\n",
              "      border: none;\n",
              "      border-radius: 50%;\n",
              "      cursor: pointer;\n",
              "      display: none;\n",
              "      fill: #1967D2;\n",
              "      height: 32px;\n",
              "      padding: 0 0 0 0;\n",
              "      width: 32px;\n",
              "    }\n",
              "\n",
              "    .colab-df-convert:hover {\n",
              "      background-color: #E2EBFA;\n",
              "      box-shadow: 0px 1px 2px rgba(60, 64, 67, 0.3), 0px 1px 3px 1px rgba(60, 64, 67, 0.15);\n",
              "      fill: #174EA6;\n",
              "    }\n",
              "\n",
              "    [theme=dark] .colab-df-convert {\n",
              "      background-color: #3B4455;\n",
              "      fill: #D2E3FC;\n",
              "    }\n",
              "\n",
              "    [theme=dark] .colab-df-convert:hover {\n",
              "      background-color: #434B5C;\n",
              "      box-shadow: 0px 1px 3px 1px rgba(0, 0, 0, 0.15);\n",
              "      filter: drop-shadow(0px 1px 2px rgba(0, 0, 0, 0.3));\n",
              "      fill: #FFFFFF;\n",
              "    }\n",
              "  </style>\n",
              "\n",
              "      <script>\n",
              "        const buttonEl =\n",
              "          document.querySelector('#df-c039b27d-9206-4216-a656-8962807ded53 button.colab-df-convert');\n",
              "        buttonEl.style.display =\n",
              "          google.colab.kernel.accessAllowed ? 'block' : 'none';\n",
              "\n",
              "        async function convertToInteractive(key) {\n",
              "          const element = document.querySelector('#df-c039b27d-9206-4216-a656-8962807ded53');\n",
              "          const dataTable =\n",
              "            await google.colab.kernel.invokeFunction('convertToInteractive',\n",
              "                                                     [key], {});\n",
              "          if (!dataTable) return;\n",
              "\n",
              "          const docLinkHtml = 'Like what you see? Visit the ' +\n",
              "            '<a target=\"_blank\" href=https://colab.research.google.com/notebooks/data_table.ipynb>data table notebook</a>'\n",
              "            + ' to learn more about interactive tables.';\n",
              "          element.innerHTML = '';\n",
              "          dataTable['output_type'] = 'display_data';\n",
              "          await google.colab.output.renderOutput(dataTable, element);\n",
              "          const docLink = document.createElement('div');\n",
              "          docLink.innerHTML = docLinkHtml;\n",
              "          element.appendChild(docLink);\n",
              "        }\n",
              "      </script>\n",
              "    </div>\n",
              "  </div>\n",
              "  "
            ]
          },
          "metadata": {},
          "execution_count": 61
        }
      ]
    },
    {
      "cell_type": "code",
      "source": [
        "data['Year Published'].value_counts()"
      ],
      "metadata": {
        "colab": {
          "base_uri": "https://localhost:8080/"
        },
        "id": "UbhrACrNqHmX",
        "outputId": "a9fa1f7b-b51a-4dc5-d038-e9deff00db64"
      },
      "execution_count": null,
      "outputs": [
        {
          "output_type": "execute_result",
          "data": {
            "text/plain": [
              "1988    21\n",
              "1976    20\n",
              "1980    20\n",
              "1985    18\n",
              "1974    17\n",
              "        ..\n",
              "1678     1\n",
              "1490     1\n",
              "1180     1\n",
              "1834     1\n",
              "1775     1\n",
              "Name: Year Published, Length: 326, dtype: int64"
            ]
          },
          "metadata": {},
          "execution_count": 62
        }
      ]
    },
    {
      "cell_type": "code",
      "source": [
        ""
      ],
      "metadata": {
        "id": "6zXCtkZErZD8"
      },
      "execution_count": null,
      "outputs": []
    },
    {
      "cell_type": "code",
      "source": [
        "data.shape"
      ],
      "metadata": {
        "id": "qn9PojKDyESR",
        "colab": {
          "base_uri": "https://localhost:8080/"
        },
        "outputId": "ca34906e-d497-409f-be96-20b098f923e5"
      },
      "execution_count": null,
      "outputs": [
        {
          "output_type": "execute_result",
          "data": {
            "text/plain": [
              "(1320, 6)"
            ]
          },
          "metadata": {},
          "execution_count": 63
        }
      ]
    },
    {
      "cell_type": "code",
      "source": [
        "data.info()"
      ],
      "metadata": {
        "colab": {
          "base_uri": "https://localhost:8080/"
        },
        "id": "c7LUY4pL1h3w",
        "outputId": "d8e6eab8-7ebe-4236-ff41-d85c86a28a76"
      },
      "execution_count": null,
      "outputs": [
        {
          "output_type": "stream",
          "name": "stdout",
          "text": [
            "<class 'pandas.core.frame.DataFrame'>\n",
            "RangeIndex: 1320 entries, 0 to 1319\n",
            "Data columns (total 6 columns):\n",
            " #   Column          Non-Null Count  Dtype \n",
            "---  ------          --------------  ----- \n",
            " 0   Date Read       1320 non-null   object\n",
            " 1   Author          1320 non-null   object\n",
            " 2   Books           1320 non-null   object\n",
            " 3   Year Published  1320 non-null   int64 \n",
            " 4   Pages           1320 non-null   int64 \n",
            " 5   Favorite        1320 non-null   int64 \n",
            "dtypes: int64(3), object(3)\n",
            "memory usage: 62.0+ KB\n"
          ]
        }
      ]
    },
    {
      "cell_type": "code",
      "source": [
        "\n",
        "data=data.drop(['Date Read','Author','Books'],axis=1)"
      ],
      "metadata": {
        "id": "kTd4m2_c2Csi"
      },
      "execution_count": null,
      "outputs": []
    },
    {
      "cell_type": "code",
      "source": [
        "data.isnull()"
      ],
      "metadata": {
        "colab": {
          "base_uri": "https://localhost:8080/",
          "height": 424
        },
        "id": "jOqLUU8Z1jzy",
        "outputId": "f46b0449-29ed-4673-8d67-188745ad7f88"
      },
      "execution_count": null,
      "outputs": [
        {
          "output_type": "execute_result",
          "data": {
            "text/plain": [
              "      Year Published  Pages  Favorite\n",
              "0              False  False     False\n",
              "1              False  False     False\n",
              "2              False  False     False\n",
              "3              False  False     False\n",
              "4              False  False     False\n",
              "...              ...    ...       ...\n",
              "1315           False  False     False\n",
              "1316           False  False     False\n",
              "1317           False  False     False\n",
              "1318           False  False     False\n",
              "1319           False  False     False\n",
              "\n",
              "[1320 rows x 3 columns]"
            ],
            "text/html": [
              "\n",
              "  <div id=\"df-609b940d-76fe-4fc7-862b-af69d02b49a5\">\n",
              "    <div class=\"colab-df-container\">\n",
              "      <div>\n",
              "<style scoped>\n",
              "    .dataframe tbody tr th:only-of-type {\n",
              "        vertical-align: middle;\n",
              "    }\n",
              "\n",
              "    .dataframe tbody tr th {\n",
              "        vertical-align: top;\n",
              "    }\n",
              "\n",
              "    .dataframe thead th {\n",
              "        text-align: right;\n",
              "    }\n",
              "</style>\n",
              "<table border=\"1\" class=\"dataframe\">\n",
              "  <thead>\n",
              "    <tr style=\"text-align: right;\">\n",
              "      <th></th>\n",
              "      <th>Year Published</th>\n",
              "      <th>Pages</th>\n",
              "      <th>Favorite</th>\n",
              "    </tr>\n",
              "  </thead>\n",
              "  <tbody>\n",
              "    <tr>\n",
              "      <th>0</th>\n",
              "      <td>False</td>\n",
              "      <td>False</td>\n",
              "      <td>False</td>\n",
              "    </tr>\n",
              "    <tr>\n",
              "      <th>1</th>\n",
              "      <td>False</td>\n",
              "      <td>False</td>\n",
              "      <td>False</td>\n",
              "    </tr>\n",
              "    <tr>\n",
              "      <th>2</th>\n",
              "      <td>False</td>\n",
              "      <td>False</td>\n",
              "      <td>False</td>\n",
              "    </tr>\n",
              "    <tr>\n",
              "      <th>3</th>\n",
              "      <td>False</td>\n",
              "      <td>False</td>\n",
              "      <td>False</td>\n",
              "    </tr>\n",
              "    <tr>\n",
              "      <th>4</th>\n",
              "      <td>False</td>\n",
              "      <td>False</td>\n",
              "      <td>False</td>\n",
              "    </tr>\n",
              "    <tr>\n",
              "      <th>...</th>\n",
              "      <td>...</td>\n",
              "      <td>...</td>\n",
              "      <td>...</td>\n",
              "    </tr>\n",
              "    <tr>\n",
              "      <th>1315</th>\n",
              "      <td>False</td>\n",
              "      <td>False</td>\n",
              "      <td>False</td>\n",
              "    </tr>\n",
              "    <tr>\n",
              "      <th>1316</th>\n",
              "      <td>False</td>\n",
              "      <td>False</td>\n",
              "      <td>False</td>\n",
              "    </tr>\n",
              "    <tr>\n",
              "      <th>1317</th>\n",
              "      <td>False</td>\n",
              "      <td>False</td>\n",
              "      <td>False</td>\n",
              "    </tr>\n",
              "    <tr>\n",
              "      <th>1318</th>\n",
              "      <td>False</td>\n",
              "      <td>False</td>\n",
              "      <td>False</td>\n",
              "    </tr>\n",
              "    <tr>\n",
              "      <th>1319</th>\n",
              "      <td>False</td>\n",
              "      <td>False</td>\n",
              "      <td>False</td>\n",
              "    </tr>\n",
              "  </tbody>\n",
              "</table>\n",
              "<p>1320 rows × 3 columns</p>\n",
              "</div>\n",
              "      <button class=\"colab-df-convert\" onclick=\"convertToInteractive('df-609b940d-76fe-4fc7-862b-af69d02b49a5')\"\n",
              "              title=\"Convert this dataframe to an interactive table.\"\n",
              "              style=\"display:none;\">\n",
              "        \n",
              "  <svg xmlns=\"http://www.w3.org/2000/svg\" height=\"24px\"viewBox=\"0 0 24 24\"\n",
              "       width=\"24px\">\n",
              "    <path d=\"M0 0h24v24H0V0z\" fill=\"none\"/>\n",
              "    <path d=\"M18.56 5.44l.94 2.06.94-2.06 2.06-.94-2.06-.94-.94-2.06-.94 2.06-2.06.94zm-11 1L8.5 8.5l.94-2.06 2.06-.94-2.06-.94L8.5 2.5l-.94 2.06-2.06.94zm10 10l.94 2.06.94-2.06 2.06-.94-2.06-.94-.94-2.06-.94 2.06-2.06.94z\"/><path d=\"M17.41 7.96l-1.37-1.37c-.4-.4-.92-.59-1.43-.59-.52 0-1.04.2-1.43.59L10.3 9.45l-7.72 7.72c-.78.78-.78 2.05 0 2.83L4 21.41c.39.39.9.59 1.41.59.51 0 1.02-.2 1.41-.59l7.78-7.78 2.81-2.81c.8-.78.8-2.07 0-2.86zM5.41 20L4 18.59l7.72-7.72 1.47 1.35L5.41 20z\"/>\n",
              "  </svg>\n",
              "      </button>\n",
              "      \n",
              "  <style>\n",
              "    .colab-df-container {\n",
              "      display:flex;\n",
              "      flex-wrap:wrap;\n",
              "      gap: 12px;\n",
              "    }\n",
              "\n",
              "    .colab-df-convert {\n",
              "      background-color: #E8F0FE;\n",
              "      border: none;\n",
              "      border-radius: 50%;\n",
              "      cursor: pointer;\n",
              "      display: none;\n",
              "      fill: #1967D2;\n",
              "      height: 32px;\n",
              "      padding: 0 0 0 0;\n",
              "      width: 32px;\n",
              "    }\n",
              "\n",
              "    .colab-df-convert:hover {\n",
              "      background-color: #E2EBFA;\n",
              "      box-shadow: 0px 1px 2px rgba(60, 64, 67, 0.3), 0px 1px 3px 1px rgba(60, 64, 67, 0.15);\n",
              "      fill: #174EA6;\n",
              "    }\n",
              "\n",
              "    [theme=dark] .colab-df-convert {\n",
              "      background-color: #3B4455;\n",
              "      fill: #D2E3FC;\n",
              "    }\n",
              "\n",
              "    [theme=dark] .colab-df-convert:hover {\n",
              "      background-color: #434B5C;\n",
              "      box-shadow: 0px 1px 3px 1px rgba(0, 0, 0, 0.15);\n",
              "      filter: drop-shadow(0px 1px 2px rgba(0, 0, 0, 0.3));\n",
              "      fill: #FFFFFF;\n",
              "    }\n",
              "  </style>\n",
              "\n",
              "      <script>\n",
              "        const buttonEl =\n",
              "          document.querySelector('#df-609b940d-76fe-4fc7-862b-af69d02b49a5 button.colab-df-convert');\n",
              "        buttonEl.style.display =\n",
              "          google.colab.kernel.accessAllowed ? 'block' : 'none';\n",
              "\n",
              "        async function convertToInteractive(key) {\n",
              "          const element = document.querySelector('#df-609b940d-76fe-4fc7-862b-af69d02b49a5');\n",
              "          const dataTable =\n",
              "            await google.colab.kernel.invokeFunction('convertToInteractive',\n",
              "                                                     [key], {});\n",
              "          if (!dataTable) return;\n",
              "\n",
              "          const docLinkHtml = 'Like what you see? Visit the ' +\n",
              "            '<a target=\"_blank\" href=https://colab.research.google.com/notebooks/data_table.ipynb>data table notebook</a>'\n",
              "            + ' to learn more about interactive tables.';\n",
              "          element.innerHTML = '';\n",
              "          dataTable['output_type'] = 'display_data';\n",
              "          await google.colab.output.renderOutput(dataTable, element);\n",
              "          const docLink = document.createElement('div');\n",
              "          docLink.innerHTML = docLinkHtml;\n",
              "          element.appendChild(docLink);\n",
              "        }\n",
              "      </script>\n",
              "    </div>\n",
              "  </div>\n",
              "  "
            ]
          },
          "metadata": {},
          "execution_count": 66
        }
      ]
    },
    {
      "cell_type": "code",
      "source": [
        "data.isna().sum()"
      ],
      "metadata": {
        "colab": {
          "base_uri": "https://localhost:8080/"
        },
        "id": "SRECMckg1mwp",
        "outputId": "7a6cd409-2465-469a-c734-2f52f6347a65"
      },
      "execution_count": null,
      "outputs": [
        {
          "output_type": "execute_result",
          "data": {
            "text/plain": [
              "Year Published    0\n",
              "Pages             0\n",
              "Favorite          0\n",
              "dtype: int64"
            ]
          },
          "metadata": {},
          "execution_count": 67
        }
      ]
    },
    {
      "cell_type": "code",
      "source": [
        "data.describe()"
      ],
      "metadata": {
        "colab": {
          "base_uri": "https://localhost:8080/",
          "height": 300
        },
        "id": "VpQ3tDPy1p3U",
        "outputId": "70796fb9-739b-4869-fbb2-97be79e7a886"
      },
      "execution_count": null,
      "outputs": [
        {
          "output_type": "execute_result",
          "data": {
            "text/plain": [
              "       Year Published        Pages     Favorite\n",
              "count     1320.000000  1320.000000  1320.000000\n",
              "mean      1867.958333   313.109848     0.103030\n",
              "std        326.478110   191.219654     0.304114\n",
              "min          5.000000    13.000000     0.000000\n",
              "25%       1900.000000   180.000000     0.000000\n",
              "50%       1963.000000   275.000000     0.000000\n",
              "75%       1987.000000   386.250000     0.000000\n",
              "max       2021.000000  1664.000000     1.000000"
            ],
            "text/html": [
              "\n",
              "  <div id=\"df-c2489479-8221-478a-9dfb-4101e1f3a61b\">\n",
              "    <div class=\"colab-df-container\">\n",
              "      <div>\n",
              "<style scoped>\n",
              "    .dataframe tbody tr th:only-of-type {\n",
              "        vertical-align: middle;\n",
              "    }\n",
              "\n",
              "    .dataframe tbody tr th {\n",
              "        vertical-align: top;\n",
              "    }\n",
              "\n",
              "    .dataframe thead th {\n",
              "        text-align: right;\n",
              "    }\n",
              "</style>\n",
              "<table border=\"1\" class=\"dataframe\">\n",
              "  <thead>\n",
              "    <tr style=\"text-align: right;\">\n",
              "      <th></th>\n",
              "      <th>Year Published</th>\n",
              "      <th>Pages</th>\n",
              "      <th>Favorite</th>\n",
              "    </tr>\n",
              "  </thead>\n",
              "  <tbody>\n",
              "    <tr>\n",
              "      <th>count</th>\n",
              "      <td>1320.000000</td>\n",
              "      <td>1320.000000</td>\n",
              "      <td>1320.000000</td>\n",
              "    </tr>\n",
              "    <tr>\n",
              "      <th>mean</th>\n",
              "      <td>1867.958333</td>\n",
              "      <td>313.109848</td>\n",
              "      <td>0.103030</td>\n",
              "    </tr>\n",
              "    <tr>\n",
              "      <th>std</th>\n",
              "      <td>326.478110</td>\n",
              "      <td>191.219654</td>\n",
              "      <td>0.304114</td>\n",
              "    </tr>\n",
              "    <tr>\n",
              "      <th>min</th>\n",
              "      <td>5.000000</td>\n",
              "      <td>13.000000</td>\n",
              "      <td>0.000000</td>\n",
              "    </tr>\n",
              "    <tr>\n",
              "      <th>25%</th>\n",
              "      <td>1900.000000</td>\n",
              "      <td>180.000000</td>\n",
              "      <td>0.000000</td>\n",
              "    </tr>\n",
              "    <tr>\n",
              "      <th>50%</th>\n",
              "      <td>1963.000000</td>\n",
              "      <td>275.000000</td>\n",
              "      <td>0.000000</td>\n",
              "    </tr>\n",
              "    <tr>\n",
              "      <th>75%</th>\n",
              "      <td>1987.000000</td>\n",
              "      <td>386.250000</td>\n",
              "      <td>0.000000</td>\n",
              "    </tr>\n",
              "    <tr>\n",
              "      <th>max</th>\n",
              "      <td>2021.000000</td>\n",
              "      <td>1664.000000</td>\n",
              "      <td>1.000000</td>\n",
              "    </tr>\n",
              "  </tbody>\n",
              "</table>\n",
              "</div>\n",
              "      <button class=\"colab-df-convert\" onclick=\"convertToInteractive('df-c2489479-8221-478a-9dfb-4101e1f3a61b')\"\n",
              "              title=\"Convert this dataframe to an interactive table.\"\n",
              "              style=\"display:none;\">\n",
              "        \n",
              "  <svg xmlns=\"http://www.w3.org/2000/svg\" height=\"24px\"viewBox=\"0 0 24 24\"\n",
              "       width=\"24px\">\n",
              "    <path d=\"M0 0h24v24H0V0z\" fill=\"none\"/>\n",
              "    <path d=\"M18.56 5.44l.94 2.06.94-2.06 2.06-.94-2.06-.94-.94-2.06-.94 2.06-2.06.94zm-11 1L8.5 8.5l.94-2.06 2.06-.94-2.06-.94L8.5 2.5l-.94 2.06-2.06.94zm10 10l.94 2.06.94-2.06 2.06-.94-2.06-.94-.94-2.06-.94 2.06-2.06.94z\"/><path d=\"M17.41 7.96l-1.37-1.37c-.4-.4-.92-.59-1.43-.59-.52 0-1.04.2-1.43.59L10.3 9.45l-7.72 7.72c-.78.78-.78 2.05 0 2.83L4 21.41c.39.39.9.59 1.41.59.51 0 1.02-.2 1.41-.59l7.78-7.78 2.81-2.81c.8-.78.8-2.07 0-2.86zM5.41 20L4 18.59l7.72-7.72 1.47 1.35L5.41 20z\"/>\n",
              "  </svg>\n",
              "      </button>\n",
              "      \n",
              "  <style>\n",
              "    .colab-df-container {\n",
              "      display:flex;\n",
              "      flex-wrap:wrap;\n",
              "      gap: 12px;\n",
              "    }\n",
              "\n",
              "    .colab-df-convert {\n",
              "      background-color: #E8F0FE;\n",
              "      border: none;\n",
              "      border-radius: 50%;\n",
              "      cursor: pointer;\n",
              "      display: none;\n",
              "      fill: #1967D2;\n",
              "      height: 32px;\n",
              "      padding: 0 0 0 0;\n",
              "      width: 32px;\n",
              "    }\n",
              "\n",
              "    .colab-df-convert:hover {\n",
              "      background-color: #E2EBFA;\n",
              "      box-shadow: 0px 1px 2px rgba(60, 64, 67, 0.3), 0px 1px 3px 1px rgba(60, 64, 67, 0.15);\n",
              "      fill: #174EA6;\n",
              "    }\n",
              "\n",
              "    [theme=dark] .colab-df-convert {\n",
              "      background-color: #3B4455;\n",
              "      fill: #D2E3FC;\n",
              "    }\n",
              "\n",
              "    [theme=dark] .colab-df-convert:hover {\n",
              "      background-color: #434B5C;\n",
              "      box-shadow: 0px 1px 3px 1px rgba(0, 0, 0, 0.15);\n",
              "      filter: drop-shadow(0px 1px 2px rgba(0, 0, 0, 0.3));\n",
              "      fill: #FFFFFF;\n",
              "    }\n",
              "  </style>\n",
              "\n",
              "      <script>\n",
              "        const buttonEl =\n",
              "          document.querySelector('#df-c2489479-8221-478a-9dfb-4101e1f3a61b button.colab-df-convert');\n",
              "        buttonEl.style.display =\n",
              "          google.colab.kernel.accessAllowed ? 'block' : 'none';\n",
              "\n",
              "        async function convertToInteractive(key) {\n",
              "          const element = document.querySelector('#df-c2489479-8221-478a-9dfb-4101e1f3a61b');\n",
              "          const dataTable =\n",
              "            await google.colab.kernel.invokeFunction('convertToInteractive',\n",
              "                                                     [key], {});\n",
              "          if (!dataTable) return;\n",
              "\n",
              "          const docLinkHtml = 'Like what you see? Visit the ' +\n",
              "            '<a target=\"_blank\" href=https://colab.research.google.com/notebooks/data_table.ipynb>data table notebook</a>'\n",
              "            + ' to learn more about interactive tables.';\n",
              "          element.innerHTML = '';\n",
              "          dataTable['output_type'] = 'display_data';\n",
              "          await google.colab.output.renderOutput(dataTable, element);\n",
              "          const docLink = document.createElement('div');\n",
              "          docLink.innerHTML = docLinkHtml;\n",
              "          element.appendChild(docLink);\n",
              "        }\n",
              "      </script>\n",
              "    </div>\n",
              "  </div>\n",
              "  "
            ]
          },
          "metadata": {},
          "execution_count": 68
        }
      ]
    },
    {
      "cell_type": "code",
      "source": [
        "freqgraph=data.select_dtypes(include=['int32','int64','float'])\n",
        "freqgraph.hist(figsize=(20,15))\n",
        "plt.show()"
      ],
      "metadata": {
        "colab": {
          "base_uri": "https://localhost:8080/",
          "height": 879
        },
        "id": "0_nwK1xe1r1-",
        "outputId": "a51bc963-42a3-4e8f-ab2a-41b8a2cab79a"
      },
      "execution_count": null,
      "outputs": [
        {
          "output_type": "display_data",
          "data": {
            "text/plain": [
              "<Figure size 1440x1080 with 4 Axes>"
            ],
            "image/png": "[encoded data removed]"
          },
          "metadata": {
            "needs_background": "light"
          }
        }
      ]
    },
    {
      "cell_type": "code",
      "source": [
        "corrmatrix=data.corr()\n",
        "plt.subplots(figsize=(20,8))\n",
        "sns.heatmap(corrmatrix,vmin=-7,vmax=0.7,annot=True,linewidths=0.2)"
      ],
      "metadata": {
        "colab": {
          "base_uri": "https://localhost:8080/",
          "height": 500
        },
        "id": "GwACdy7P1t_w",
        "outputId": "d4dd197f-b01e-4ee8-a474-eb90bccafc4a"
      },
      "execution_count": null,
      "outputs": [
        {
          "output_type": "execute_result",
          "data": {
            "text/plain": [
              "<matplotlib.axes._subplots.AxesSubplot at 0x7f012a1ca090>"
            ]
          },
          "metadata": {},
          "execution_count": 70
        },
        {
          "output_type": "display_data",
          "data": {
            "text/plain": [
              "<Figure size 1440x576 with 2 Axes>"
            ],
            "image/png": "[encoded data removed]"
          },
          "metadata": {
            "needs_background": "light"
          }
        }
      ]
    },
    {
      "cell_type": "code",
      "source": [
        "data.columns"
      ],
      "metadata": {
        "colab": {
          "base_uri": "https://localhost:8080/"
        },
        "id": "A91oULS41xYi",
        "outputId": "bd1f6882-021e-4f45-e40b-8f5b79dd656b"
      },
      "execution_count": null,
      "outputs": [
        {
          "output_type": "execute_result",
          "data": {
            "text/plain": [
              "Index(['Year Published', 'Pages', 'Favorite'], dtype='object')"
            ]
          },
          "metadata": {},
          "execution_count": 71
        }
      ]
    },
    {
      "cell_type": "code",
      "source": [
        "y=data['Favorite']\n",
        "x=data.drop(['Favorite'],axis=1)"
      ],
      "metadata": {
        "id": "q_xLZMzB1z_j"
      },
      "execution_count": null,
      "outputs": []
    },
    {
      "cell_type": "code",
      "source": [
        "x.shape"
      ],
      "metadata": {
        "colab": {
          "base_uri": "https://localhost:8080/"
        },
        "id": "jmYjGr3h2YWN",
        "outputId": "a37e9b7d-2d3b-4642-ec51-7e65b0c3b480"
      },
      "execution_count": null,
      "outputs": [
        {
          "output_type": "execute_result",
          "data": {
            "text/plain": [
              "(1320, 2)"
            ]
          },
          "metadata": {},
          "execution_count": 73
        }
      ]
    },
    {
      "cell_type": "code",
      "source": [
        "from sklearn.model_selection import train_test_split\n",
        "x_train,x_test,y_train,y_test=train_test_split(x,y,random_state=42,test_size=0.25)"
      ],
      "metadata": {
        "id": "N-xDdSW42dgX"
      },
      "execution_count": null,
      "outputs": []
    },
    {
      "cell_type": "code",
      "source": [
        "from sklearn import linear_model\n",
        "lr=linear_model.LinearRegression()"
      ],
      "metadata": {
        "id": "xB_UjfIX2fef"
      },
      "execution_count": null,
      "outputs": []
    },
    {
      "cell_type": "code",
      "source": [
        "model=lr.fit(x_train,y_train)"
      ],
      "metadata": {
        "id": "jYSwnFF22n6R"
      },
      "execution_count": null,
      "outputs": []
    },
    {
      "cell_type": "code",
      "source": [
        "predictions=model.predict(x_test)"
      ],
      "metadata": {
        "id": "v5ufiJVo2sh4"
      },
      "execution_count": null,
      "outputs": []
    },
    {
      "cell_type": "code",
      "source": [
        "predictions"
      ],
      "metadata": {
        "id": "2XjLP0jq2wXg",
        "colab": {
          "base_uri": "https://localhost:8080/"
        },
        "outputId": "3a2b2b12-b18f-4833-fe54-d21c3884de64"
      },
      "execution_count": null,
      "outputs": [
        {
          "output_type": "execute_result",
          "data": {
            "text/plain": [
              "array([0.15875518, 0.10485168, 0.06607128, 0.07269492, 0.08665553,\n",
              "       0.17018253, 0.06390637, 0.06572294, 0.12929862, 0.09169988,\n",
              "       0.0647993 , 0.11590448, 0.06523844, 0.12040519, 0.1183245 ,\n",
              "       0.09765031, 0.24123919, 0.05980594, 0.1240616 , 0.0613058 ,\n",
              "       0.0395122 , 0.07011876, 0.06181602, 0.13670778, 0.07633482,\n",
              "       0.16035006, 0.10133752, 0.05185707, 0.08397974, 0.06551402,\n",
              "       0.0531821 , 0.06725472, 0.12826673, 0.08737072, 0.12021693,\n",
              "       0.09843103, 0.08230834, 0.1243    , 0.06861336, 0.08941929,\n",
              "       0.12093212, 0.08819389, 0.0987022 , 0.05847321, 0.06269636,\n",
              "       0.05407015, 0.12418235, 0.09588125, 0.1033122 , 0.05361007,\n",
              "       0.09239573, 0.07735525, 0.12752647, 0.06506624, 0.07584065,\n",
              "       0.14116295, 0.09657973, 0.05012849, 0.08409457, 0.08665909,\n",
              "       0.15188657, 0.20589015, 0.09755838, 0.08997636, 0.17673378,\n",
              "       0.12960012, 0.08206093, 0.09472908, 0.10476192, 0.12296464,\n",
              "       0.03278809, 0.17798395, 0.09351513, 0.04430078, 0.05338576,\n",
              "       0.12710226, 0.09128797, 0.08793042, 0.09935382, 0.11830713,\n",
              "       0.06434204, 0.07913201, 0.05361073, 0.13190164, 0.34331736,\n",
              "       0.10820172, 0.06380741, 0.10610939, 0.19219715, 0.05759089,\n",
              "       0.08386407, 0.09469434, 0.09078413, 0.08355243, 0.07978936,\n",
              "       0.08105786, 0.07408502, 0.09103286, 0.05661486, 0.09511527,\n",
              "       0.12395428, 0.1569573 , 0.12785548, 0.08708528, 0.08338727,\n",
              "       0.08597179, 0.05181595, 0.19089031, 0.05690274, 0.1685711 ,\n",
              "       0.1429579 , 0.06252351, 0.15175483, 0.07482791, 0.12514024,\n",
              "       0.07288534, 0.10009342, 0.10911484, 0.08577124, 0.10016713,\n",
              "       0.06004367, 0.10405377, 0.21515437, 0.13104787, 0.05066378,\n",
              "       0.09044105, 0.07573267, 0.06458879, 0.22474075, 0.11415214,\n",
              "       0.07856329, 0.06135528, 0.0906878 , 0.06080966, 0.05381373,\n",
              "       0.18539358, 0.1103255 , 0.21709891, 0.12325449, 0.14498124,\n",
              "       0.07057133, 0.06456504, 0.06946648, 0.20546021, 0.06658986,\n",
              "       0.13151271, 0.12072715, 0.0711053 , 0.07320665, 0.09239066,\n",
              "       0.07751844, 0.07530536, 0.12451971, 0.0826103 , 0.1103255 ,\n",
              "       0.09771519, 0.07355922, 0.08631817, 0.0797579 , 0.13991182,\n",
              "       0.05904126, 0.11900786, 0.09630396, 0.10865982, 0.08694078,\n",
              "       0.07076222, 0.12258399, 0.1376332 , 0.10006197, 0.10414372,\n",
              "       0.07014534, 0.07797148, 0.06164316, 0.11167363, 0.1122584 ,\n",
              "       0.09233282, 0.09109755, 0.08698631, 0.13379275, 0.0773546 ,\n",
              "       0.09386479, 0.06613551, 0.10390974, 0.17301314, 0.15954969,\n",
              "       0.09328903, 0.11781344, 0.06903936, 0.08611188, 0.10603716,\n",
              "       0.06752805, 0.04548769, 0.08591198, 0.10002657, 0.12106451,\n",
              "       0.12709952, 0.07099028, 0.08150057, 0.06683595, 0.10417715,\n",
              "       0.06758523, 0.09062799, 0.08025911, 0.08749475, 0.08155203,\n",
              "       0.16907249, 0.12902173, 0.09962874, 0.10970533, 0.06617841,\n",
              "       0.0931727 , 0.0849815 , 0.05006164, 0.11646597, 0.10022647,\n",
              "       0.05864738, 0.0727877 , 0.14856179, 0.07650767, 0.08295931,\n",
              "       0.10672054, 0.04830732, 0.09067944, 0.10245626, 0.15622343,\n",
              "       0.04798602, 0.1070887 , 0.0729522 , 0.1923145 , 0.08787258,\n",
              "       0.0764826 , 0.06399698, 0.22637204, 0.05675495, 0.07264563,\n",
              "       0.10362252, 0.05896803, 0.09772289, 0.09824343, 0.0632156 ,\n",
              "       0.1372996 , 0.14601905, 0.09678601, 0.09234183, 0.1009872 ,\n",
              "       0.12117249, 0.10156164, 0.08833332, 0.05992293, 0.09051494,\n",
              "       0.10376691, 0.10572959, 0.11457946, 0.07174838, 0.12484299,\n",
              "       0.10817194, 0.08026042, 0.08038953, 0.13073426, 0.11570656,\n",
              "       0.10997913, 0.20021155, 0.09529648, 0.0515107 , 0.07302083,\n",
              "       0.15470047, 0.09604313, 0.17918448, 0.12146073, 0.16389134,\n",
              "       0.0827871 , 0.10118907, 0.07514527, 0.09679503, 0.05978152,\n",
              "       0.10300761, 0.15463362, 0.12443173, 0.0499807 , 0.14518687,\n",
              "       0.19044629, 0.1487736 , 0.10230847, 0.05109043, 0.11177259,\n",
              "       0.0644995 , 0.10144287, 0.15661093, 0.08556495, 0.10174042,\n",
              "       0.11974784, 0.18737465, 0.06567477, 0.06107951, 0.1068503 ,\n",
              "       0.07883643, 0.05689438, 0.06607569, 0.08403758, 0.06228511,\n",
              "       0.07612853, 0.08820994, 0.10134587, 0.12290351, 0.15205811,\n",
              "       0.10331464, 0.08633357, 0.14494847, 0.06118683, 0.0776251 ,\n",
              "       0.05608859, 0.16222465, 0.0758323 , 0.08392256, 0.08758536,\n",
              "       0.0717343 , 0.05437343, 0.09777875, 0.06210389, 0.09850624,\n",
              "       0.12713963, 0.07678588, 0.07166566, 0.05406949, 0.09552718,\n",
              "       0.07555212, 0.05020238, 0.09095896, 0.12439061, 0.06297654])"
            ]
          },
          "metadata": {},
          "execution_count": 78
        }
      ]
    },
    {
      "cell_type": "code",
      "source": [
        "y_test"
      ],
      "metadata": {
        "id": "1U7asuNu20fo",
        "colab": {
          "base_uri": "https://localhost:8080/"
        },
        "outputId": "d5d73a55-1c1e-47c2-d4eb-2172e7740bab"
      },
      "execution_count": null,
      "outputs": [
        {
          "output_type": "execute_result",
          "data": {
            "text/plain": [
              "678     1\n",
              "693     0\n",
              "610     0\n",
              "49      0\n",
              "1291    0\n",
              "       ..\n",
              "178     0\n",
              "287     0\n",
              "1272    0\n",
              "1099    0\n",
              "294     0\n",
              "Name: Favorite, Length: 330, dtype: int64"
            ]
          },
          "metadata": {},
          "execution_count": 79
        }
      ]
    },
    {
      "cell_type": "code",
      "source": [
        "from sklearn.metrics import mean_squared_error\n",
        "print('MSE is:',mean_squared_error(y_test,predictions))"
      ],
      "metadata": {
        "id": "afwzrJt122ze",
        "colab": {
          "base_uri": "https://localhost:8080/"
        },
        "outputId": "27022523-27bc-420b-de3f-bb0e3cbea5b5"
      },
      "execution_count": null,
      "outputs": [
        {
          "output_type": "stream",
          "name": "stdout",
          "text": [
            "MSE is: 0.09360977181988321\n"
          ]
        }
      ]
    }
  ]
}